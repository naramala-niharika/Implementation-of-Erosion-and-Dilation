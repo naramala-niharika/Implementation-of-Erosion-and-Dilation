{
 "cells": [
  {
   "cell_type": "code",
   "execution_count": null,
   "id": "ae7ff7b7",
   "metadata": {},
   "outputs": [],
   "source": [
    "import cv2\n",
    "import numpy\n",
    "NameImage = numpy.zeros((100,1000),dtype='uint8')\n",
    "font = cv2.FONT_ITALIC\n",
    "cv2.putText(NameImage,'Naramala Niharika',(50,70),font,2,(255),5,cv2.LINE_4)\n",
    "cv2.imshow(\"Name Image\",NameImage)\n",
    "kernel1 = cv2.getStructuringElement(cv2.MORPH_CROSS,(7,7))\n",
    "erodeImage = cv2.erode(NameImage,kernel1)\n",
    "dilationImage = cv2.dilate(NameImage,kernel1)\n",
    "cv2.imshow(\"Erode Image\",erodeImage)\n",
    "cv2.imshow(\"Dilated Image\",dilationImage)\n",
    "cv2.waitKey(0)\n",
    "\n",
    "cv2.destroyAllWindows()"
   ]
  },
  {
   "cell_type": "code",
   "execution_count": null,
   "id": "6f2abb35",
   "metadata": {},
   "outputs": [],
   "source": []
  }
 ],
 "metadata": {
  "kernelspec": {
   "display_name": "Python 3 (ipykernel)",
   "language": "python",
   "name": "python3"
  },
  "language_info": {
   "codemirror_mode": {
    "name": "ipython",
    "version": 3
   },
   "file_extension": ".py",
   "mimetype": "text/x-python",
   "name": "python",
   "nbconvert_exporter": "python",
   "pygments_lexer": "ipython3",
   "version": "3.8.12"
  }
 },
 "nbformat": 4,
 "nbformat_minor": 5
}
